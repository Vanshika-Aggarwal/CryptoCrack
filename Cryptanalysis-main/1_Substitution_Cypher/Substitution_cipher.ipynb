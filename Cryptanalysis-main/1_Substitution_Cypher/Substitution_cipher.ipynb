{
 "cells": [
  {
   "cell_type": "code",
   "execution_count": 6,
   "id": "308061f2",
   "metadata": {},
   "outputs": [],
   "source": [
    "def split(word):\n",
    "  return [char for char in word]"
   ]
  },
  {
   "cell_type": "code",
   "execution_count": 7,
   "id": "590a877f",
   "metadata": {},
   "outputs": [],
   "source": [
    "def replace(a,b,list,orig):\n",
    "  for i in range(0,len(list)):\n",
    "    if orig[i]==a:\n",
    "      list[i]=b\n",
    "  return list"
   ]
  },
  {
   "cell_type": "code",
   "execution_count": 8,
   "id": "60aa02bc",
   "metadata": {},
   "outputs": [],
   "source": [
    "# text = \"omkf pi hdn cmgef icphsck .H krg vphqkc c,fic mco kqgf ioqag eo qfcmckf oq ficpihdn cm .Kg dcgeficu hfcm pi hdn cmklo uuncdgmc oqfc mc kfoq afihqfiokgq c!Fi cpgy cvkc yeg mfio kdck kha cokh kodjuck vn k fofvfo gqpojicmoqli opiyoa of kihsc nccqki oefc ynr2 juhpck. Fi c jhkklgm yok oMxr9V1x ya flofigvffic xvgfck. Fio kokfice\"\n",
    "text = \"DF ULYP XO CQD LFWC RUBHEDY, CQDYG LN XDYL EGIYIG LMP CQDYF. LYFNH HXPZ CQF YNILXKPB 'NDCB_AN_BBHCN' PQ FQ CQPKZBK. OLC PMC UNUG YMB IPYDIDCQ OXY CMB LDZP AULHDFY. CX OALG RMB FWGI PMX BNTIP ZLSWS LFWFE PQ ZCYGY KIBAT XMNKI PMBYD.\"\n",
    "text = text.lower()\n",
    "orig = text\n",
    "text = split(text)\n",
    "orig = split(orig)\n",
    "count  = 0\n",
    "mapping = {}\n",
    "l=[0.0]*26\n",
    "size = len(text)\n",
    "for letter in range(0,size):\n",
    "  if text[letter] >= 'a' and text[letter] <='z':\n",
    "    l[int(ord(text[letter]) - ord('a'))] += 1\n",
    "    count +=1\n",
    "fact = count/100\n",
    "for i in range(0,26):\n",
    "  l[i] = l[i]/fact"
   ]
  },
  {
   "cell_type": "code",
   "execution_count": 10,
   "id": "2adc8015",
   "metadata": {},
   "outputs": [
    {
     "data": {
      "text/plain": [
       "[2.2222222222222223,\n",
       " 6.666666666666666,\n",
       " 7.777777777777778,\n",
       " 6.666666666666666,\n",
       " 1.6666666666666665,\n",
       " 5.555555555555555,\n",
       " 3.888888888888889,\n",
       " 2.7777777777777777,\n",
       " 5.0,\n",
       " 0.0,\n",
       " 2.7777777777777777,\n",
       " 7.222222222222222,\n",
       " 4.444444444444445,\n",
       " 5.0,\n",
       " 2.2222222222222223,\n",
       " 7.222222222222222,\n",
       " 5.0,\n",
       " 1.1111111111111112,\n",
       " 1.1111111111111112,\n",
       " 1.1111111111111112,\n",
       " 2.7777777777777777,\n",
       " 0.0,\n",
       " 2.2222222222222223,\n",
       " 4.444444444444445,\n",
       " 8.333333333333334,\n",
       " 2.7777777777777777]"
      ]
     },
     "execution_count": 10,
     "metadata": {},
     "output_type": "execute_result"
    }
   ],
   "source": [
    "l"
   ]
  },
  {
   "cell_type": "code",
   "execution_count": 5,
   "id": "3ccf5ed2",
   "metadata": {},
   "outputs": [
    {
     "data": {
      "text/plain": [
       "\"df ulyp xo cqd lfwc rubhedy, cqdyg ln xdyl egiyig lmp cqdyf. lyfnh hxpz cqf ynilxkpb 'ndcb_an_bbhcn' pq fq cqpkzbk. olc pmc unug ymb ipydidcq oxy cmb ldzp aulhdfy. cx oalg rmb fwgi pmx bntip zlsws lfwfe pq zcygy kibat xmnki pmbyd.\""
      ]
     },
     "execution_count": 5,
     "metadata": {},
     "output_type": "execute_result"
    }
   ],
   "source": [
    "''.join([str(elem) for elem in text])"
   ]
  },
  {
   "cell_type": "code",
   "execution_count": 6,
   "id": "1e31f326",
   "metadata": {},
   "outputs": [
    {
     "data": {
      "text/plain": [
       "'omkf pi hdn Emgef iEphsEk .h krg vphqkE E,fiE mEo kqgf ioqag eo qfEmEkf oq fiEpihdn Em .kg dEgefiEu hfEm pi hdn Emklo uunEdgmE oqfE mE kfoq afihqfiokgq E!fi Epgy EvkE yeg mfio kdEk kha Eokh kodjuEk vn k fofvfo gqpojiEmoqli opiyoa of kihsE nEEqki oefE ynr2 juhpEk. fi E jhkklgm yok omxr9v1x ya flofigvffiE xvgfEk. fio kokfiEe'"
      ]
     },
     "execution_count": 6,
     "metadata": {},
     "output_type": "execute_result"
    }
   ],
   "source": [
    "text = replace(\"c\",\"E\",text,orig)\n",
    "mapping[\"c\"] = \"e\"\n",
    "''.join([str(elem) for elem in text])"
   ]
  },
  {
   "cell_type": "code",
   "execution_count": 7,
   "id": "b79bf979",
   "metadata": {},
   "outputs": [
    {
     "data": {
      "text/plain": [
       "'omkT pi hdn EmgeT iEphsEk .h krg vphqkE E,TiE mEo kqgT ioqag eo qTEmEkT oq TiEpihdn Em .kg dEgeTiEu hTEm pi hdn Emklo uunEdgmE oqTE mE kToq aTihqTiokgq E!Ti Epgy EvkE yeg mTio kdEk kha Eokh kodjuEk vn k ToTvTo gqpojiEmoqli opiyoa oT kihsE nEEqki oeTE ynr2 juhpEk. Ti E jhkklgm yok omxr9v1x ya TloTigvTTiE xvgTEk. Tio kokTiEe'"
      ]
     },
     "execution_count": 7,
     "metadata": {},
     "output_type": "execute_result"
    }
   ],
   "source": [
    "text = replace(\"f\",\"T\",text,orig)\n",
    "mapping[\"f\"] = \"t\"\n",
    "''.join([str(elem) for elem in text])"
   ]
  },
  {
   "cell_type": "code",
   "execution_count": 8,
   "id": "cf65b2e5",
   "metadata": {},
   "outputs": [
    {
     "data": {
      "text/plain": [
       "'omkT pH hdn EmgeT HEphsEk .h krg vphqkE E,THE mEo kqgT Hoqag eo qTEmEkT oq THEpHhdn Em .kg dEgeTHEu hTEm pH hdn Emklo uunEdgmE oqTE mE kToq aTHhqTHokgq E!TH Epgy EvkE yeg mTHo kdEk kha Eokh kodjuEk vn k ToTvTo gqpojHEmoqlH opHyoa oT kHhsE nEEqkH oeTE ynr2 juhpEk. TH E jhkklgm yok omxr9v1x ya TloTHgvTTHE xvgTEk. THo kokTHEe'"
      ]
     },
     "execution_count": 8,
     "metadata": {},
     "output_type": "execute_result"
    }
   ],
   "source": [
    "text = replace(\"i\",\"H\",text,orig)\n",
    "mapping[\"i\"] = \"h\"\n",
    "''.join([str(elem) for elem in text])"
   ]
  },
  {
   "cell_type": "code",
   "execution_count": 9,
   "id": "674d3d06",
   "metadata": {},
   "outputs": [
    {
     "data": {
      "text/plain": [
       "'omST pH hdn EmgeT HEphsES .h Srg vphqSE E,THE mEo SqgT Hoqag eo qTEmEST oq THEpHhdn Em .Sg dEgeTHEu hTEm pH hdn EmSlo uunEdgmE oqTE mE SToq aTHhqTHoSgq E!TH Epgy EvSE yeg mTHo SdES Sha EoSh SodjuES vn S ToTvTo gqpojHEmoqlH opHyoa oT SHhsE nEEqSH oeTE ynr2 juhpES. TH E jhSSlgm yoS omxr9v1x ya TloTHgvTTHE xvgTES. THo SoSTHEe'"
      ]
     },
     "execution_count": 9,
     "metadata": {},
     "output_type": "execute_result"
    }
   ],
   "source": [
    "# THok has three occurence, can be most probably THIS   \n",
    "text = replace(\"k\",\"S\",text,orig)\n",
    "mapping[\"k\"] = \"s\"\n",
    "''.join([str(elem) for elem in text])"
   ]
  },
  {
   "cell_type": "code",
   "execution_count": 10,
   "id": "1d29871a",
   "metadata": {},
   "outputs": [
    {
     "data": {
      "text/plain": [
       "'ImST pH hdn EmgeT HEphsES .h Srg vphqSE E,THE mEI SqgT HIqag eI qTEmEST Iq THEpHhdn Em .Sg dEgeTHEu hTEm pH hdn EmSlI uunEdgmE IqTE mE STIq aTHhqTHISgq E!TH Epgy EvSE yeg mTHI SdES Sha EISh SIdjuES vn S TITvTI gqpIjHEmIqlH IpHyIa IT SHhsE nEEqSH IeTE ynr2 juhpES. TH E jhSSlgm yIS Imxr9v1x ya TlITHgvTTHE xvgTES. THI SISTHEe'"
      ]
     },
     "execution_count": 10,
     "metadata": {},
     "output_type": "execute_result"
    }
   ],
   "source": [
    "text = replace(\"o\",\"I\",text,orig)\n",
    "mapping[\"o\"] = \"i\"\n",
    "''.join([str(elem) for elem in text])"
   ]
  },
  {
   "cell_type": "code",
   "execution_count": 11,
   "id": "0b7fc5d9",
   "metadata": {},
   "outputs": [
    {
     "data": {
      "text/plain": [
       "'IRST pH hdn ERgeT HEphsES .h Srg vphqSE E,THE REI SqgT HIqag eI qTEREST Iq THEpHhdn ER .Sg dEgeTHEu hTER pH hdn ERSlI uunEdgRE IqTE RE STIq aTHhqTHISgq E!TH Epgy EvSE yeg RTHI SdES Sha EISh SIdjuES vn S TITvTI gqpIjHERIqlH IpHyIa IT SHhsE nEEqSH IeTE ynr2 juhpES. TH E jhSSlgR yIS IRxr9v1x ya TlITHgvTTHE xvgTES. THI SISTHEe'"
      ]
     },
     "execution_count": 11,
     "metadata": {},
     "output_type": "execute_result"
    }
   ],
   "source": [
    "# THE mE and THEmE => THERE && I qTEmEST => INTEREST\n",
    "text = replace(\"m\",\"R\",text,orig)\n",
    "mapping[\"m\"] = \"r\"\n",
    "''.join([str(elem) for elem in text])"
   ]
  },
  {
   "cell_type": "code",
   "execution_count": 12,
   "id": "14c6c678",
   "metadata": {},
   "outputs": [
    {
     "data": {
      "text/plain": [
       "'IRST pH hdn ERgeT HEphsES .h Srg vphNSE E,THE REI SNgT HINag eI NTEREST IN THEpHhdn ER .Sg dEgeTHEu hTER pH hdn ERSlI uunEdgRE INTE RE STIN aTHhNTHISgN E!TH Epgy EvSE yeg RTHI SdES Sha EISh SIdjuES vn S TITvTI gNpIjHERINlH IpHyIa IT SHhsE nEENSH IeTE ynr2 juhpES. TH E jhSSlgR yIS IRxr9v1x ya TlITHgvTTHE xvgTES. THI SISTHEe'"
      ]
     },
     "execution_count": 12,
     "metadata": {},
     "output_type": "execute_result"
    }
   ],
   "source": [
    "text = replace(\"q\",\"N\",text,orig)\n",
    "mapping[\"q\"] = \"n\"\n",
    "''.join([str(elem) for elem in text])"
   ]
  },
  {
   "cell_type": "code",
   "execution_count": 13,
   "id": "8358621b",
   "metadata": {},
   "outputs": [
    {
     "data": {
      "text/plain": [
       "'IRST pH Adn ERgeT HEpAsES .A Srg vpANSE E,THE REI SNgT HINGg eI NTEREST IN THEpHAdn ER .Sg dEgeTHEu ATER pH Adn ERSlI uunEdgRE INTE RE STIN GTHANTHISgN E!TH Epgy EvSE yeg RTHI SdES SAG EISA SIdjuES vn S TITvTI gNpIjHERINlH IpHyIG IT SHAsE nEENSH IeTE ynr2 juApES. TH E jASSlgR yIS IRxr9v1x yG TlITHgvTTHE xvgTES. THI SISTHEe'"
      ]
     },
     "execution_count": 13,
     "metadata": {},
     "output_type": "execute_result"
    }
   ],
   "source": [
    "# INTE RE STING THAN\n",
    "mapping[\"a\"] = \"g\"\n",
    "mapping[\"h\"] = \"a\"\n",
    "text = replace(\"a\",\"G\",text,orig)\n",
    "text = replace(\"h\",\"A\",text,orig)\n",
    "''.join([str(elem) for elem in text])"
   ]
  },
  {
   "cell_type": "code",
   "execution_count": 14,
   "id": "a799c110",
   "metadata": {},
   "outputs": [
    {
     "data": {
      "text/plain": [
       "'IRST pH AMn EROeT HEpAsES .A SrO vpANSE E,THE REI SNOT HINGO eI NTEREST IN THEpHAMn ER .SO MEOeTHEu ATER pH AMn ERSlI uunEMORE INTE RE STIN GTHANTHISON E!TH EpOy EvSE yeO RTHI SMES SAG EISA SIMjuES vn S TITvTI ONpIjHERINlH IpHyIG IT SHAsE nEENSH IeTE ynr2 juApES. TH E jASSlOR yIS IRxr9v1x yG TlITHOvTTHE xvOTES. THI SISTHEe'"
      ]
     },
     "execution_count": 14,
     "metadata": {},
     "output_type": "execute_result"
    }
   ],
   "source": [
    "# uunEdgRE => ...MORE\n",
    "mapping[\"d\"] = \"m\"\n",
    "mapping[\"g\"] = \"o\"\n",
    "text = replace(\"d\",\"M\",text,orig)\n",
    "text = replace(\"g\",\"O\",text,orig)\n",
    "''.join([str(elem) for elem in text])"
   ]
  },
  {
   "cell_type": "code",
   "execution_count": 15,
   "id": "409a8e2d",
   "metadata": {},
   "outputs": [
    {
     "data": {
      "text/plain": [
       "'IRST pH AMn EROeT HEpAsES .A SrO vpANSE E,THE REI SNOT HINGO eI NTEREST IN THEpHAMn ER .SO MEOeTHEu ATER pH AMn ERSWI uunEMORE INTE RE STIN GTHANTHISON E!TH EpOD EvSE DeO RTHI SMES SAG EISA SIMPuES vn S TITvTI ONpIPHERINWH IpHDIG IT SHAsE nEENSH IeTE Dnr2 PuApES. TH E PASSWOR DIS IRxr9v1x DG TWITHOvTTHE xvOTES. THI SISTHEe'"
      ]
     },
     "execution_count": 15,
     "metadata": {},
     "output_type": "execute_result"
    }
   ],
   "source": [
    "# jASSlOR yIS => PASSWOR DIS\n",
    "mapping[\"j\"] = \"p\"\n",
    "mapping[\"l\"] = \"w\"\n",
    "mapping[\"y\"] = \"d\"\n",
    "text = replace(\"j\",\"P\",text,orig)\n",
    "text = replace(\"l\",\"W\",text,orig)\n",
    "text = replace(\"y\",\"D\",text,orig)\n",
    "''.join([str(elem) for elem in text])"
   ]
  },
  {
   "cell_type": "code",
   "execution_count": 16,
   "id": "f35e35d1",
   "metadata": {},
   "outputs": [
    {
     "data": {
      "text/plain": [
       "'IRST pH AMn EROFT HEpAsES .A SrO vpANSE E,THE REI SNOT HINGO FI NTEREST IN THEpHAMn ER .SO MEOFTHEu ATER pH AMn ERSWI uunEMORE INTE RE STIN GTHANTHISON E!TH EpOD EvSE DFO RTHI SMES SAG EISA SIMPuES vn S TITvTI ONpIPHERINWH IpHDIG IT SHAsE nEENSH IFTE Dnr2 PuApES. TH E PASSWOR DIS IRxr9v1x DG TWITHOvTTHE xvOTES. THI SISTHEF'"
      ]
     },
     "execution_count": 16,
     "metadata": {},
     "output_type": "execute_result"
    }
   ],
   "source": [
    "# NOT HINGO eI NTEREST => NOT HINGO FI NTEREST\n",
    "mapping[\"e\"] = \"f\"\n",
    "text = replace(\"e\",\"F\",text,orig)\n",
    "''.join([str(elem) for elem in text])"
   ]
  },
  {
   "cell_type": "code",
   "execution_count": 17,
   "id": "6d38a89d",
   "metadata": {},
   "outputs": [
    {
     "data": {
      "text/plain": [
       "'IRST pH AMn EROFT HEpAsES .A SrO UpANSE E,THE REI SNOT HINGO FI NTEREST IN THEpHAMn ER .SO MEOFTHEu ATER pH AMn ERSWI uunEMORE INTE RE STIN GTHANTHISON E!TH EpOD EUSE DFO RTHI SMES SAG EISA SIMPuES Un S TITUTI ONpIPHERINWH IpHDIG IT SHAsE nEENSH IFTE Dnr2 PuApES. TH E PASSWOR DIS IRQr9U1Q DG TWITHOUTTHE QUOTES. THI SISTHEF'"
      ]
     },
     "execution_count": 17,
     "metadata": {},
     "output_type": "execute_result"
    }
   ],
   "source": [
    "# TWITHOvTTHE xvOTES => TWITHOUTTHE QUOTES\n",
    "mapping[\"x\"] = \"q\"\n",
    "mapping[\"v\"] = \"u\"\n",
    "text = replace(\"x\",\"Q\",text,orig)\n",
    "text = replace(\"v\",\"U\",text,orig)\n",
    "''.join([str(elem) for elem in text])"
   ]
  },
  {
   "cell_type": "code",
   "execution_count": 18,
   "id": "3f02a7f1",
   "metadata": {},
   "outputs": [
    {
     "data": {
      "text/plain": [
       "'IRST CH AMn EROFT HECAsES .A SrO UCANSE E,THE REI SNOT HINGO FI NTEREST IN THECHAMn ER .SO MEOFTHEL ATER CH AMn ERSWI LLnEMORE INTE RE STIN GTHANTHISON E!TH ECOD EUSE DFO RTHI SMES SAG EISA SIMPLES Un S TITUTI ONCIPHERINWH ICHDIG IT SHAsE nEENSH IFTE Dnr2 PLACES. TH E PASSWOR DIS IRQr9U1Q DG TWITHOUTTHE QUOTES. THI SISTHEF'"
      ]
     },
     "execution_count": 18,
     "metadata": {},
     "output_type": "execute_result"
    }
   ],
   "source": [
    "# TH EpOD EUSE DFO RTHI SMES SAG EISA SIMPuE => TH ECOD EUSE DFO RTHI SMES SAG EISA SIMPLE\n",
    "mapping[\"p\"] = \"c\"\n",
    "mapping[\"u\"] = \"l\"\n",
    "text = replace(\"p\",\"C\",text,orig)\n",
    "text = replace(\"u\",\"L\",text,orig)\n",
    "''.join([str(elem) for elem in text])"
   ]
  },
  {
   "cell_type": "code",
   "execution_count": 19,
   "id": "cdc5b077",
   "metadata": {},
   "outputs": [
    {
     "data": {
      "text/plain": [
       "'IRST CH AMB EROFT HECAVES .A SrO UCANSE E,THE REI SNOT HINGO FI NTEREST IN THECHAMB ER .SO MEOFTHEL ATER CH AMB ERSWI LLBEMORE INTE RE STIN GTHANTHISON E!TH ECOD EUSE DFO RTHI SMES SAG EISA SIMPLES UB S TITUTI ONCIPHERINWH ICHDIG IT SHAVE BEENSH IFTE DBr2 PLACES. TH E PASSWOR DIS IRQr9U1Q DG TWITHOUTTHE QUOTES. THI SISTHEF'"
      ]
     },
     "execution_count": 19,
     "metadata": {},
     "output_type": "execute_result"
    }
   ],
   "source": [
    "# IRST CH AMn EROFT HECAsES => IRST CH AMB EROFT HECAVES\n",
    "mapping[\"n\"] = \"b\"\n",
    "mapping[\"s\"] = \"v\"\n",
    "text = replace(\"n\",\"B\",text,orig)\n",
    "text = replace(\"s\",\"V\",text,orig)\n",
    "''.join([str(elem) for elem in text])"
   ]
  },
  {
   "cell_type": "code",
   "execution_count": 20,
   "id": "6b95b161",
   "metadata": {},
   "outputs": [
    {
     "data": {
      "text/plain": [
       "'IRST CH AMB EROFT HECAVES .A SYO UCANSE E,THE REI SNOT HINGO FI NTEREST IN THECHAMB ER .SO MEOFTHEL ATER CH AMB ERSWI LLBEMORE INTE RE STIN GTHANTHISON E!TH ECOD EUSE DFO RTHI SMES SAG EISA SIMPLES UB S TITUTI ONCIPHERINWH ICHDIG IT SHAVE BEENSH IFTE DBY2 PLACES. TH E PASSWOR DIS IRQY9U1Q DG TWITHOUTTHE QUOTES. THI SISTHEF'"
      ]
     },
     "execution_count": 20,
     "metadata": {},
     "output_type": "execute_result"
    }
   ],
   "source": [
    "# IT SHAVE BEENSH IFTE DBr2 PLACES => IT SHAVE BEENSH IFTE DBY2 PLACES\n",
    "text = replace(\"r\",\"Y\",text,orig)\n",
    "mapping[\"r\"] = \"y\"\n",
    "''.join([str(elem) for elem in text])"
   ]
  },
  {
   "cell_type": "code",
   "execution_count": 21,
   "id": "3d411a3f",
   "metadata": {},
   "outputs": [
    {
     "name": "stdout",
     "output_type": "stream",
     "text": [
      "('a', 'g') ('c', 'e') ('d', 'm') ('e', 'f') ('f', 't') ('g', 'o') ('h', 'a') ('i', 'h') ('j', 'p') ('k', 's') ('l', 'w') ('m', 'r') ('n', 'b') ('o', 'i') ('p', 'c') ('q', 'n') ('r', 'y') ('s', 'v') ('u', 'l') ('v', 'u') ('x', 'q') ('y', 'd') "
     ]
    }
   ],
   "source": [
    "# sorted(mapping)\n",
    "# print(mapping)\n",
    "for i in sorted (mapping):\n",
    "    print ((i, mapping[i]), end =\" \")"
   ]
  },
  {
   "cell_type": "code",
   "execution_count": 22,
   "id": "ab8b670b",
   "metadata": {},
   "outputs": [],
   "source": [
    "# 'IRST CHAMBER OF THE CAVES. AS YOU CAN SEE THERE IS NOTHING OF INTERST IN THE CHAMBER. SOME OF THE LATER CHAMBERS\n",
    "# WILL BE MORE INTERESTING THAN THIS ONE! THE CODE USED FOR THIS MESSAGE IS A SIMPLE SUBSTITUTION CIPHER IN WHICH \n",
    "# DIGITS HAVE BEEN SHIFTED BY 2 PLACES. THE PASSWORD IS IRQY9U1QDGT WITHOUT THE QUOTES. THIS IS THE F'\n",
    "\n",
    "# Pass : \"iRqy9U1qdgt\"\n",
    "# Pass : \"iRqy1U3qdgt\"\n",
    "# Pass : \"iRqy2U4qdgt\"\n",
    "# Pass : \"iRqy3U5qdgt\"   <= Actual pass Brute Forcing\n",
    "# Pass : \"iRqy4U6qdgt\"\n",
    "# Pass : \"iRqy5U7qdgt\"\n",
    "# Pass : \"iRqy6U8qdgt\"\n",
    "# Pass : \"iRqy7U9qdgt\"\n",
    "# Pass : \"iRqy8U0qdgt\"\n",
    "\n"
   ]
  }
 ],
 "metadata": {
  "kernelspec": {
   "display_name": "Python 3",
   "language": "python",
   "name": "python3"
  },
  "language_info": {
   "codemirror_mode": {
    "name": "ipython",
    "version": 3
   },
   "file_extension": ".py",
   "mimetype": "text/x-python",
   "name": "python",
   "nbconvert_exporter": "python",
   "pygments_lexer": "ipython3",
   "version": "3.6.9"
  }
 },
 "nbformat": 4,
 "nbformat_minor": 5
}

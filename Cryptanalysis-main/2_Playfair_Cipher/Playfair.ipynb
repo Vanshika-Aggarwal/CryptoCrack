{
 "cells": [
  {
   "cell_type": "code",
   "execution_count": 1,
   "id": "308061f2",
   "metadata": {},
   "outputs": [],
   "source": [
    "def split(word):\n",
    "  return [char for char in word]"
   ]
  },
  {
   "cell_type": "code",
   "execution_count": 2,
   "id": "590a877f",
   "metadata": {},
   "outputs": [],
   "source": [
    "def replace(a,b,list,orig):\n",
    "  for i in range(0,len(list)):\n",
    "    if orig[i]==a:\n",
    "      list[i]=b\n",
    "  return list"
   ]
  },
  {
   "cell_type": "code",
   "execution_count": 3,
   "id": "60aa02bc",
   "metadata": {},
   "outputs": [],
   "source": [
    "text = \"DF ULYP XO CQD LFWC RUBHEDY, CQDYG LN XDYL EGIYIG LMP CQDYF. LYFNH HXPZ CQF YNILXKPB 'NDCB_AN_BBHCN' PQ FQ CQPKZBK. OLC PMC UNUG YMB IPYDIDCQ OXY CMB LDZP AULHDFY. CX OALG RMB FWGI PMX BNTIP ZLSWS LFWFE PQ ZCYGY KIBAT XMNKI PMBYD.\"\n",
    "orig = text\n",
    "text = text.replace(\" \",\"\")\n",
    "text = text.replace(\"_\",\"\")\n",
    "text = text.replace(\",\",\"\")\n",
    "text = text.replace(\".\",\"\")\n",
    "text = text.replace(\"'\",\"\")"
   ]
  },
  {
   "cell_type": "code",
   "execution_count": 4,
   "id": "0d234ca3",
   "metadata": {},
   "outputs": [],
   "source": [
    "text = split(text)"
   ]
  },
  {
   "cell_type": "code",
   "execution_count": 5,
   "id": "9df98085",
   "metadata": {},
   "outputs": [],
   "source": [
    "def address (key,c):\n",
    "    for i in range(0,5):\n",
    "        for j in range(0,5):\n",
    "            if key[i][j] == c:\n",
    "                return i,j"
   ]
  },
  {
   "cell_type": "code",
   "execution_count": 6,
   "id": "ce809a1d",
   "metadata": {},
   "outputs": [],
   "source": [
    "# our key was \"CRYPTANALYSIS\"\n",
    "key = [['C', 'R', 'Y', 'P', 'T'],\n",
    "       ['A', 'N', 'L', 'S', 'I'],\n",
    "       ['B', 'D', 'E', 'F', 'G'],\n",
    "       ['H', 'K', 'M', 'O', 'Q'],\n",
    "       ['U', 'V', 'W', 'X', 'Z']]"
   ]
  },
  {
   "cell_type": "code",
   "execution_count": 7,
   "id": "358db6c6",
   "metadata": {},
   "outputs": [
    {
     "data": {
      "text/plain": [
       "'DFULYPXOCQDLFWCRUBHEDYCQDYGLNXDYLEGIYIGLMPCQDYFLYFNHHXPZCQFYNILXKPBNDCBANBBHCNPQFQCQPKZBKOLCPMCUNUGYMBIPYDIDCQOXYCMBLDZPAULHDFYCXOALGRMBFWGIPMXBNTIPZLSWSLFWFEPQZCYGYKIBATXMNKIPMBYD'"
      ]
     },
     "execution_count": 7,
     "metadata": {},
     "output_type": "execute_result"
    }
   ],
   "source": [
    "''.join([str(elem) for elem in text])"
   ]
  },
  {
   "cell_type": "code",
   "execution_count": 8,
   "id": "f7fe6298",
   "metadata": {},
   "outputs": [],
   "source": [
    "plaintext = \"\"\n",
    "l = len(text)\n",
    "l = int(l/2)\n",
    "for index in range(0,l):\n",
    "    i = index*2\n",
    "    r1,c1 = address(key,text[i])\n",
    "    r2,c2 = address(key,text[i+1])\n",
    "    \n",
    "    if r1 == r2 :\n",
    "        text[i] = key[(r1)][c1-1]\n",
    "        text[i+1] = key[(r2)][c2-1]\n",
    "    elif c1 == c2 :\n",
    "        text[i] = key[r1-1][(c1)]\n",
    "        text[i+1] = key[r2-1][(c2)]\n",
    "    else:\n",
    "        text[i] = key[r1][c2]\n",
    "        text[i+1] = key[r2][c1]\n",
    "\n",
    "    \n",
    "        "
   ]
  },
  {
   "cell_type": "code",
   "execution_count": 9,
   "id": "11191eb7",
   "metadata": {},
   "outputs": [
    {
     "data": {
      "text/plain": [
       "'BEWARYOFTHENEXTCHAMBERTHEREISVERYLITTLEIOYTHERESPEAKOUTXTHEPASSWORDABRACADABRATOGOTHROUGHMAYYOUHAVETHESTRENGTHFORTHENEXTCHAMBERTOFINDTHEEXITYOUFIRSTWILXLNEXEDTOUTTERMAGICWORDSTHERE'"
      ]
     },
     "execution_count": 9,
     "metadata": {},
     "output_type": "execute_result"
    }
   ],
   "source": [
    "''.join([str(elem) for elem in text])"
   ]
  }
 ],
 "metadata": {
  "kernelspec": {
   "display_name": "Python 3",
   "language": "python",
   "name": "python3"
  },
  "language_info": {
   "codemirror_mode": {
    "name": "ipython",
    "version": 3
   },
   "file_extension": ".py",
   "mimetype": "text/x-python",
   "name": "python",
   "nbconvert_exporter": "python",
   "pygments_lexer": "ipython3",
   "version": "3.6.9"
  }
 },
 "nbformat": 4,
 "nbformat_minor": 5
}
